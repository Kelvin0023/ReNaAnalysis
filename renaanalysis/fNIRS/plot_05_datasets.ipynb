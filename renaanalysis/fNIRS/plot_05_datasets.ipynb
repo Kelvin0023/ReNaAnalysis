{
 "cells": [
  {
   "cell_type": "code",
   "execution_count": null,
   "metadata": {
    "collapsed": false
   },
   "outputs": [],
   "source": [
    "%matplotlib inline"
   ]
  },
  {
   "cell_type": "markdown",
   "metadata": {},
   "source": [
    "\n",
    "\n",
    "# Example Datasets\n",
    "\n",
    "To get you up and running with MNE-NIRS and fNIRS data analysis we provide\n",
    "some example datasets.\n",
    "Each dataset is published and if you use the data at any stage of\n",
    "your experiment (including piloting and exploration) then please cite the\n",
    "authors of the data.\n",
    "\n",
    "A brief explanation of each dataset is provided below, and a demonstration\n",
    "of how to download the data and address it with MNE.\n",
    "Each dataset is provided in BIDs format, as such we can use the MNE-BIDS\n",
    "package to quickly report the number of trials for each condition in the\n",
    "dataset.\n"
   ]
  },
  {
   "cell_type": "code",
   "execution_count": null,
   "metadata": {
    "collapsed": false
   },
   "outputs": [],
   "source": [
    "# sphinx_gallery_thumbnail_number = 1\n",
    "\n",
    "# Authors: Robert Luke <mail@robertluke.net>\n",
    "#\n",
    "# License: BSD (3-clause)\n",
    "\n",
    "\n",
    "import mne_nirs\n",
    "import mne_bids.stats"
   ]
  },
  {
   "cell_type": "markdown",
   "metadata": {},
   "source": [
    "## Finger Tapping Data\n",
    "\n",
    "This data is from the publication\n",
    ":footcite:p:`Luke_fNIRS_Finger_Tapping_2021`.\n",
    "This data provides an example of the canonical finger tapping experiment.\n",
    "Data is provided from five participants. The experiment was a block design\n",
    "with three conditions. The first condition consisted of the participants\n",
    "tapping their thumb to fingers on the left hand, the second condition was the\n",
    "same but with the right hand. The final condition was a control, with no\n",
    "motor task.\n",
    "\n"
   ]
  },
  {
   "cell_type": "code",
   "execution_count": null,
   "metadata": {
    "collapsed": false
   },
   "outputs": [],
   "source": [
    "datapath = mne_nirs.datasets.fnirs_motor_group.data_path()\n",
    "mne_bids.stats.count_events(datapath)"
   ]
  },
  {
   "cell_type": "markdown",
   "metadata": {},
   "source": [
    "## Auditory Speech and Noise\n",
    "\n",
    "This data is from the publication\n",
    ":footcite:p:`luke2021analysis`.\n",
    "In this experiment listeners were presented with auditory stimuli via insertphones.\n",
    "Data is provided from seventeen participants. The experiment was a block\n",
    "design with three conditions. The first condition consisted of speech,\n",
    "the second condition consisted of low frequency noise.\n",
    "The final condition was a control, no audio was presented to the listeners.\n",
    "\n"
   ]
  },
  {
   "cell_type": "code",
   "execution_count": null,
   "metadata": {
    "collapsed": false
   },
   "outputs": [],
   "source": [
    "datapath = mne_nirs.datasets.block_speech_noise.data_path()\n",
    "mne_bids.stats.count_events(datapath)"
   ]
  },
  {
   "cell_type": "markdown",
   "metadata": {},
   "source": [
    "## Audio or Visual Speech\n",
    "\n",
    "This data is from the publication\n",
    ":footcite:p:`shader2021use`.\n",
    "In this experiment participants were presented a continuously running story\n",
    "in blocked segments. Each segment was presented as either audio only\n",
    "or visual only.\n",
    "In addition to the audio visual stimuli, a control condition was also\n",
    "presented randomly throughout the experiment.\n",
    "\n"
   ]
  },
  {
   "cell_type": "code",
   "execution_count": null,
   "metadata": {
    "collapsed": false
   },
   "outputs": [],
   "source": [
    "datapath = mne_nirs.datasets.audio_or_visual_speech.data_path()\n",
    "mne_bids.stats.count_events(datapath)"
   ]
  },
  {
   "cell_type": "markdown",
   "metadata": {},
   "source": [
    "### Bibliography\n",
    "\n",
    ".. footbibliography::\n",
    "\n"
   ]
  }
 ],
 "metadata": {
  "kernelspec": {
   "display_name": "Python 3",
   "language": "python",
   "name": "python3"
  },
  "language_info": {
   "codemirror_mode": {
    "name": "ipython",
    "version": 3
   },
   "file_extension": ".py",
   "mimetype": "text/x-python",
   "name": "python",
   "nbconvert_exporter": "python",
   "pygments_lexer": "ipython3",
   "version": "3.8.0"
  }
 },
 "nbformat": 4,
 "nbformat_minor": 0
}
